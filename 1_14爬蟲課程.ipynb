{
  "nbformat": 4,
  "nbformat_minor": 0,
  "metadata": {
    "colab": {
      "provenance": [],
      "authorship_tag": "ABX9TyPgETcbRszAeICv9txNJgV5",
      "include_colab_link": true
    },
    "kernelspec": {
      "name": "python3",
      "display_name": "Python 3"
    },
    "language_info": {
      "name": "python"
    }
  },
  "cells": [
    {
      "cell_type": "markdown",
      "metadata": {
        "id": "view-in-github",
        "colab_type": "text"
      },
      "source": [
        "<a href=\"https://colab.research.google.com/github/Pert814/Python_Basic/blob/main/1_14%E7%88%AC%E8%9F%B2%E8%AA%B2%E7%A8%8B.ipynb\" target=\"_parent\"><img src=\"https://colab.research.google.com/assets/colab-badge.svg\" alt=\"Open In Colab\"/></a>"
      ]
    },
    {
      "cell_type": "markdown",
      "source": [
        "HTTP代碼\n",
        "\n",
        "```python\n",
        "2開頭: 成功\n",
        "\n",
        "3開頭: 轉址\n",
        "對面的網址已經搬家了, 雖然妳還是輸入舊網址, 但她會自動幫你替換成新網址\n",
        "\n",
        "4開頭: 錯誤\n",
        "\n",
        "404: Not Found\n",
        "!!! 最常見: 網址打錯\n",
        "403: Forbidden\n",
        "!!! 原因1: ip ban\n",
        "!!! 通常是數次的惡意行為(可能是短時間送太多...)\n",
        "!!! 解法: 等待/換ip\n",
        "!!! 原因2: 妳學的不像瀏覽器\n",
        "!!! 解法: 學的像一點(headers完善)\n",
        "\n",
        "```"
      ],
      "metadata": {
        "id": "96ZEZN3_jKes"
      }
    },
    {
      "cell_type": "markdown",
      "source": [
        "# 新增區段"
      ],
      "metadata": {
        "id": "8clDm2KhxVrv"
      }
    },
    {
      "cell_type": "markdown",
      "source": [
        "Header\n",
        "\n",
        "```python\n",
        "妳在送出網址的時候, 其實不只送出網址\n",
        "妳送出的是 網址+額外信息(request headers)\n",
        "\n",
        "妳在得到回應的時候, 其實不是只有得到回應\n",
        "回應+額外信息(response headers)\n",
        "```"
      ],
      "metadata": {
        "id": "ZeMasmEEjFqi"
      }
    },
    {
      "cell_type": "markdown",
      "source": [
        "處理檔案\n",
        "\n",
        "```python\n",
        "1. 純文字(TXT)\n",
        "open(...., \"r\" or \"w\", encoding=\"utf-8\")\n",
        "\n",
        "2. 非純文字(圖片/pdf/doc....)\n",
        "open(...., \"rb\" or \"wb\")\n",
        "\n",
        "```"
      ],
      "metadata": {
        "id": "bhJfsL4G0_St"
      }
    },
    {
      "cell_type": "code",
      "execution_count": null,
      "metadata": {
        "id": "rV6RR5otVK9t",
        "colab": {
          "base_uri": "https://localhost:8080/",
          "height": 181
        },
        "outputId": "ad83ebac-48d7-496e-953c-2f04dbf188c5"
      },
      "outputs": [
        {
          "output_type": "error",
          "ename": "FileNotFoundError",
          "evalue": "[Errno 2] No such file or directory: '8faNwgb.jpeg'",
          "traceback": [
            "\u001b[0;31m---------------------------------------------------------------------------\u001b[0m",
            "\u001b[0;31mFileNotFoundError\u001b[0m                         Traceback (most recent call last)",
            "\u001b[0;32m<ipython-input-4-b2f5590c59ed>\u001b[0m in \u001b[0;36m<cell line: 0>\u001b[0;34m()\u001b[0m\n\u001b[1;32m     22\u001b[0m     \u001b[0;31m# print(\"-\" * 30)\u001b[0m\u001b[0;34m\u001b[0m\u001b[0;34m\u001b[0m\u001b[0m\n\u001b[1;32m     23\u001b[0m     \u001b[0mfname\u001b[0m \u001b[0;34m=\u001b[0m \u001b[0mhref\u001b[0m\u001b[0;34m.\u001b[0m\u001b[0msplit\u001b[0m\u001b[0;34m(\u001b[0m\u001b[0;34m\"/\"\u001b[0m\u001b[0;34m)\u001b[0m\u001b[0;34m[\u001b[0m\u001b[0;34m-\u001b[0m\u001b[0;36m1\u001b[0m\u001b[0;34m]\u001b[0m\u001b[0;34m\u001b[0m\u001b[0;34m\u001b[0m\u001b[0m\n\u001b[0;32m---> 24\u001b[0;31m     \u001b[0mf\u001b[0m \u001b[0;34m=\u001b[0m  \u001b[0mopen\u001b[0m\u001b[0;34m(\u001b[0m\u001b[0mfname\u001b[0m\u001b[0;34m)\u001b[0m\u001b[0;34m\u001b[0m\u001b[0;34m\u001b[0m\u001b[0m\n\u001b[0m",
            "\u001b[0;31mFileNotFoundError\u001b[0m: [Errno 2] No such file or directory: '8faNwgb.jpeg'"
          ]
        }
      ],
      "source": [
        "import urllib.request as req\n",
        "import bs4 as bs\n",
        "\n",
        "url = \"https://www.ptt.cc/bbs/Beauty/M.1736755829.A.02A.html\"\n",
        "r = req.Request(url)\n",
        "r.add_header(\"user-agent\", \"Mozilla/5.0 (Windows NT 10.0; Win64; x64) AppleWebKit/537.36 (KHTML, like Gecko) Chrome/131.0.0.0 Safari/537.36\")\n",
        "\n",
        "response = req.urlopen(r)\n",
        "soup = bs.BeautifulSoup(response)\n",
        "\n",
        "links = soup.find_all(\"a\")\n",
        "allow_subname = [\"jpg\", \"jpeg\", \"gif\"]\n",
        "\n",
        "for l in links:\n",
        "  href = l[\"href\"]\n",
        "  subname = href.split(\".\")[-1]\n",
        "  if subname.lower() in allow_subname:\n",
        "    r = req.Request(href)\n",
        "    r.add_header(\"User-Agent\", \"Mozilla/5.0 (Windows NT 10.0; Win64; x64) AppleWebKit/537.36 (KHTML, like Gecko) Chrome/131.0.0.0 Safari/537.36 Edg/131.0.0.0\")\n",
        "    img = req.urlopen(r)\n",
        "    # print(img.read())\n",
        "    # print(\"-\" * 30)\n",
        "    fname = href.split(\"/\")[-1]\n",
        "    f =  open(fname)"
      ]
    },
    {
      "cell_type": "markdown",
      "source": [],
      "metadata": {
        "id": "BjpCI0dayeAv"
      }
    },
    {
      "cell_type": "code",
      "source": [
        "import urllib.request as req\n",
        "import bs4 as bs\n",
        "\n",
        "url = \"https://www.ptt.cc/bbs/Beauty/M.1736755829.A.02A.html\"\n",
        "r = req.Request(url)\n",
        "r.add_header(\"user-agent\", \"Mozilla/5.0 (Windows NT 10.0; Win64; x64) AppleWebKit/537.36 (KHTML, like Gecko) Chrome/131.0.0.0 Safari/537.36\")\n",
        "response = req.urlopen(r)\n",
        "soup = bs.BeautifulSoup(response)\n",
        "# print(soup)\n",
        "\n",
        "# 抓取<span class=\"article-meta-value\">Gentlemon (肥宅紳士)</span>\n",
        "author_html = soup.find_all(\"span\", class_=\"article-meta-value\")\n",
        "# print(author_html[0].text)\n",
        "title_split = author_html[2].text.split(\"]\")\n",
        "title_class = title_split[0].replace(\"[\", \"\")\n",
        "title_board = title_split[1].strip(\" \")\n",
        "\n",
        "# # 抓取<title>[正妹] Cosplay 1601 日本 約兒 - 看板 Beauty - 批踢踢實業坊</title>\n",
        "# title_html = soup.find(\"title\")\n",
        "# title = title_html.text.strip(\" \")\n",
        "\n",
        "# # 抓取<span class=\"article-meta-tag\">時間</span><span class=\"article-meta-value\">Mon Jan 13 16:10:23 2025</span>\n",
        "# time_html = soup.find(\"span\", class_=\"article-meta-value\")\n",
        "# time = time_html.text.strip(\" \")\n",
        "\n",
        "# #抓取<span class=\"article-meta-value\">Beauty</span>\n",
        "# board_html = soup.find_all(\"span\", class_=\"article-meta-value\")\n",
        "# print(board_html)\n",
        "# # board = board_html.text.strip(\" \")\n",
        "\n",
        "# 抓取所有<span class=\"f3 push-content\">: 大長腿</span>\n",
        "push_html = soup.find_all(\"span\", class_=\"f3 push-content\")\n",
        "push_content = []\n",
        "for i in push_html:\n",
        "  push_content.append(i.text)\n",
        "\n",
        "print(\"作者: \", author_html[0].text)\n",
        "print(\"看板: \", author_html[1].text)\n",
        "print(\"分類: \", title_class)\n",
        "print(\"標題: \", title_board)\n",
        "print(\"時間: \", author_html[3].text)\n",
        "print(\"推噓文\", push_content)\n"
      ],
      "metadata": {
        "colab": {
          "base_uri": "https://localhost:8080/"
        },
        "id": "To5hzEBcrzNH",
        "outputId": "5be690f4-acdd-451b-8808-2367b9b2204f"
      },
      "execution_count": null,
      "outputs": [
        {
          "output_type": "stream",
          "name": "stdout",
          "text": [
            "作者:  Gentlemon (肥宅紳士)\n",
            "看板:  Beauty\n",
            "分類:  正妹\n",
            "標題:  Cosplay 1601 日本 約兒\n",
            "時間:  Mon Jan 13 16:10:23 2025\n",
            "推噓文 [': 大長腿', ': 好！！！', ': 長', ': 讚', ': 可']\n"
          ]
        }
      ]
    },
    {
      "cell_type": "code",
      "source": [
        "# 練習: 拿其他的\n",
        "import urllib.request as req\n",
        "import bs4 as bs\n",
        "\n",
        "url = \"https://www.ptt.cc/bbs/Beauty/M.1736733511.A.738.html\"\n",
        "r = req.Request(url)\n",
        "r.add_header(\"User-Agent\", \"Mozilla/5.0 (Windows NT 10.0; Win64; x64) AppleWebKit/537.36 (KHTML, like Gecko) Chrome/131.0.0.0 Safari/537.36 Edg/131.0.0.0\")\n",
        "\n",
        "response = req.urlopen(r)\n",
        "html = bs.BeautifulSoup(response)\n",
        "\n",
        "meta_list = html.find_all(\"span\", {\"class\":\"article-meta-value\"})\n",
        "\n",
        "ptt_id = meta_list[0].text\n",
        "if \"(\" in ptt_id:\n",
        "    ptt_id_split = ptt_id.split(\"(\")\n",
        "    ptt_id = ptt_id_split[0].strip()\n",
        "    nick_name = ptt_id_split[-1].replace(\")\", \"\")\n",
        "else:\n",
        "    nick_name = \"\"\n",
        "board = meta_list[1].text\n",
        "title = meta_list[2].text\n",
        "if title[0] == \"[\":\n",
        "    title_split = title.split(\"]\")\n",
        "    category = title_split[0].replace(\"[\", \"\")\n",
        "    title = title_split[-1].strip()\n",
        "else:\n",
        "    category = \"\"\n",
        "date = meta_list[3].text\n",
        "\n",
        "# 存檔的時候肯定是來個JSON\n",
        "data = {\n",
        "    \"id\":ptt_id,\n",
        "    \"nickname\":nick_name,\n",
        "    \"board\":board,\n",
        "    \"category\":category,\n",
        "    \"title\":title,\n",
        "    \"data\":date,\n",
        "    \"push\":[]\n",
        "}\n",
        "\n",
        "print(\"作者:\", ptt_id)\n",
        "print(\"當時暱稱:\", nick_name)\n",
        "print(\"看板:\", board)\n",
        "print(\"分類:\", category)\n",
        "print(\"標題:\", title)\n",
        "print(\"時間:\", date)\n",
        "\n",
        "\n",
        "push_list = html.find_all(\"div\", {\"class\":\"push\"})\n",
        "for push in push_list:\n",
        "    push_meta = push.find_all(\"span\")\n",
        "    push_type = push_meta[0].text.strip()\n",
        "    push_ptt_id = push_meta[1].text.strip()\n",
        "    push_content = push_meta[2].text.replace(\": \", \"\").strip()\n",
        "    push_ip_date = push_meta[3].text.strip()\n",
        "    print(push_type, push_ptt_id, push_content, push_ip_date)\n",
        "    push_data = {\n",
        "        \"type\":push_type,\n",
        "        \"id\":push_ptt_id,\n",
        "        \"content\":push_content,\n",
        "        \"ipdate\":push_ip_date\n",
        "    }\n",
        "    data[\"push\"].append(push_data)"
      ],
      "metadata": {
        "colab": {
          "base_uri": "https://localhost:8080/"
        },
        "id": "ASsA0Wqv1I1w",
        "outputId": "04419d46-21ca-460f-9e45-a9936971d77f"
      },
      "execution_count": null,
      "outputs": [
        {
          "output_type": "stream",
          "name": "stdout",
          "text": [
            "作者: JANUARZ\n",
            "當時暱稱: 社會職人\n",
            "看板: Beauty\n",
            "分類: 正妹\n",
            "標題: 有些角度像楊謹華\n",
            "時間: Mon Jan 13 09:58:29 2025\n",
            "推 ninaman 正 101.12.146.84 01/13 10:05\n",
            "推 deltarobot . 49.217.122.9 01/13 10:07\n",
            "推 elfindor 優 223.137.175.186 01/13 10:16\n",
            "推 wglhe 優版派克 42.77.77.102 01/13 10:17\n",
            "推 Uncontinue 正正 122.118.35.37 01/13 10:38\n",
            "推 Williamtsou 門 27.53.230.154 01/13 10:52\n",
            "推 aass5566 就是本人 42.77.55.73 01/13 11:10\n",
            "→ bingreen 正 111.184.234.172 01/13 11:17\n",
            "推 openbook13 優質皮朋 49.215.58.105 01/13 11:29\n",
            "推 okbon 不錯喔 118.231.152.241 01/13 13:03\n",
            "噓 TopGun2 明明就是 張鳳書 114.33.106.198 01/13 13:12\n",
            "→ wl00669773 之前現場聊天過，一直覺得本人比照片 223.141.125.149 01/13 13:26\n",
            "→ wl00669773 漂亮 223.141.125.149 01/13 13:27\n",
            "噓 hmt17 許光漢？ 49.216.52.98 01/13 14:26\n",
            "推 WasJohnWall 派克？ 61.228.67.71 01/13 15:32\n",
            "推 durian0308 讚 42.78.236.55 01/13 15:51\n",
            "推 saw6904 楊謹華天花版 42.79.150.39 01/13 18:24\n",
            "推 ruffryders 正翻 42.78.17.7 01/13 19:57\n",
            "推 a3300689 已追蹤 推藏頭 1.171.153.189 01/14 00:32\n",
            "→ a9564208 比較像 常威 101.9.96.122 01/14 07:33\n",
            "推 clkdtm32 比楊謹華正太多了吧 198.232.126.7 01/14 11:00\n",
            "推 ryanworld 有像 118.232.4.15 01/14 14:58\n"
          ]
        }
      ]
    },
    {
      "cell_type": "code",
      "source": [],
      "metadata": {
        "id": "LicPzsC7ykii"
      },
      "execution_count": null,
      "outputs": []
    }
  ]
}